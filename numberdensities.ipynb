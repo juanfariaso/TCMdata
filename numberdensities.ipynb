{
 "cells": [
  {
   "cell_type": "code",
   "execution_count": 77,
   "id": "6abe44b7-e405-4a08-9600-ad184a60b4fd",
   "metadata": {},
   "outputs": [],
   "source": [
    "import numpy\n",
    "from matplotlib import pyplot\n",
    "\n",
    "datafolder = './profiles/number_densities/'\n",
    "\n",
    "%matplotlib widget"
   ]
  },
  {
   "cell_type": "code",
   "execution_count": 78,
   "id": "7fbdaa9e-cc63-4be4-8e46-f34a17774cb8",
   "metadata": {},
   "outputs": [],
   "source": [
    "def number_density_from_model(mcl=3000, Sigmacl=0.1, sfe_ff= 0.03, time = 'tstar', lowmasscut = 0.0,\n",
    "                             datafolder = './profiles/number_densities/'):\n",
    "    \"\"\"\n",
    "    Load number density from N-body model:\n",
    "    \n",
    "    Arguments:\n",
    "    ---------\n",
    "    mcl           : Mass of parent clump model (Msun). Available: 300, 3000\n",
    "    Sigmacl       :  Parent cloud surface density. Available: 0.1, 1\n",
    "    sfe_ff        : Star formation efficiency per free fall time. Available: 0.01, 0.03, 0.1, 0.3, 1\n",
    "    time          : measurement time (Myr), Available: 1, 3, 10, 20, tstar\n",
    "                    default : tstar   \n",
    "    lowmasscut    : stars below this mass limit are ignored (Msun). Available: 0, 0.1, 0.3, 0.5, 1\n",
    "    datafolder    : path to the data files\n",
    "    \n",
    "    \"\"\"\n",
    "    tstr = \"tstar\" if time==\"tstar\" else \"%.2f\"%time\n",
    "    \n",
    "    datafile = datafolder + \"/ndens_2d_shell_T%s_SS%.1fsfeff%.2fM%i%s_mmin%.2f_mmax%.2f\" % (\n",
    "        tstr, Sigmacl, sfe_ff, mcl, '', lowmasscut,200 \n",
    "    )\n",
    "    df = open(datafile,'r')\n",
    "    edges = numpy.array( df.readline().split(),dtype=float)\n",
    "    n = numpy.array(df.readline().split(),dtype=float)\n",
    "    nerr = numpy.array(df.readline().split(),dtype=float)\n",
    "    df.close()\n",
    "    \n",
    "    return edges, n, nerr\n"
   ]
  },
  {
   "cell_type": "code",
   "execution_count": 87,
   "id": "ef2b0259-4967-4f09-9e41-7f868dad9e8a",
   "metadata": {},
   "outputs": [],
   "source": [
    "## Get the data with the above function:\n",
    "edges, n, nerr = number_density_from_model(mcl=300,Sigmacl=0.1,sfe_ff=0.01,lowmasscut=0,time='tstar')"
   ]
  },
  {
   "cell_type": "code",
   "execution_count": 88,
   "id": "e253c627-0d5b-43b4-9b0c-706bb5d4482b",
   "metadata": {},
   "outputs": [
    {
     "data": {
      "application/vnd.jupyter.widget-view+json": {
       "model_id": "ed1b876b389d445ebe975e1612dddd4f",
       "version_major": 2,
       "version_minor": 0
      },
      "text/plain": [
       "Canvas(toolbar=Toolbar(toolitems=[('Home', 'Reset original view', 'home', 'home'), ('Back', 'Back to previous …"
      ]
     },
     "metadata": {},
     "output_type": "display_data"
    }
   ],
   "source": [
    "pyplot.figure()\n",
    "#plot as a step histogram:\n",
    "pyplot.step(edges[:-1],n,where='post')\n",
    "\n",
    "# Or plot as a set of points\n",
    "centers  = 0.5*(edges[:-1] + edges[1:])\n",
    "pyplot.plot(centers,n,'.k')\n",
    "\n",
    "#plot the poisson errorbars if needed, however they are small.\n",
    "pyplot.errorbar(centers,n,yerr=nerr, ls = 'none' )\n",
    "\n",
    "pyplot.ylabel('$n$ (stars/ pc$^3$)')\n",
    "pyplot.xlabel('r (pc)')\n",
    "pyplot.yscale('log')\n",
    "pyplot.xscale('log')\n"
   ]
  },
  {
   "cell_type": "code",
   "execution_count": null,
   "id": "d501c73b-6e45-48cb-b692-f7fd34e98aad",
   "metadata": {},
   "outputs": [],
   "source": []
  }
 ],
 "metadata": {
  "kernelspec": {
   "display_name": "Python 3",
   "language": "python",
   "name": "python3"
  },
  "language_info": {
   "codemirror_mode": {
    "name": "ipython",
    "version": 3
   },
   "file_extension": ".py",
   "mimetype": "text/x-python",
   "name": "python",
   "nbconvert_exporter": "python",
   "pygments_lexer": "ipython3",
   "version": "3.6.9"
  }
 },
 "nbformat": 4,
 "nbformat_minor": 5
}
